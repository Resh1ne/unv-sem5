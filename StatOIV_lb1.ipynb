{
  "nbformat": 4,
  "nbformat_minor": 0,
  "metadata": {
    "colab": {
      "provenance": []
    },
    "kernelspec": {
      "name": "python3",
      "display_name": "Python 3"
    },
    "language_info": {
      "name": "python"
    }
  },
  "cells": [
    {
      "cell_type": "markdown",
      "source": [
        "Лабораторная работы №1\n",
        "Потоцкий Д.А.\n",
        "221702"
      ],
      "metadata": {
        "id": "2olsWNaH7fGe"
      }
    },
    {
      "cell_type": "code",
      "execution_count": 4,
      "metadata": {
        "id": "JscKzWsO0UId"
      },
      "outputs": [],
      "source": [
        "import pandas as pd\n",
        "df = pd.read_csv(\"shanghai_ranking_2024.csv\")"
      ]
    },
    {
      "cell_type": "code",
      "source": [
        "print(df)"
      ],
      "metadata": {
        "colab": {
          "base_uri": "https://localhost:8080/"
        },
        "id": "P42NIlVY1bOY",
        "outputId": "27eb726d-5fa3-4c84-a255-9ca5ad817c68"
      },
      "execution_count": 19,
      "outputs": [
        {
          "output_type": "stream",
          "name": "stdout",
          "text": [
            "         Rank  University_Name  Alumni  Award   Hici    N&S    PUB   PCP\n",
            "0           1                0   100.0   97.1  100.0  100.0  100.0  85.7\n",
            "1           2                1    45.3   88.1   73.1   83.9   73.1  59.6\n",
            "2           3                2    71.9   82.8   55.2   70.8   59.1  73.6\n",
            "3           4                3    78.2   90.8   45.1   59.8   67.2  60.6\n",
            "4           5                4    65.3   76.5   46.9   62.8   57.1  55.5\n",
            "..        ...              ...     ...    ...    ...    ...    ...   ...\n",
            "995  901-1000              995     0.0    0.0    6.5    4.0   21.1   9.5\n",
            "996  901-1000              996     0.0    0.0    0.0    1.4   27.5  11.7\n",
            "997  901-1000              997     0.0    0.0    6.5    3.5   19.0  13.3\n",
            "998  901-1000              998     0.0    0.0    0.0    6.9   19.3  19.4\n",
            "999  901-1000              999     0.0    0.0    6.5    3.8   20.9   9.4\n",
            "\n",
            "[1000 rows x 8 columns]\n"
          ]
        }
      ]
    },
    {
      "cell_type": "code",
      "source": [
        "df[\"University_Name\"], unique_names = df[\"University_Name\"].factorize()"
      ],
      "metadata": {
        "id": "J0hWwRGn1dN-"
      },
      "execution_count": 8,
      "outputs": []
    },
    {
      "cell_type": "code",
      "source": [
        "df[\"University_Name\"].astype('int64')\n",
        "df[\"Alumni\"].astype('float')\n",
        "df[\"Award\"].astype('float')\n",
        "df[\"Hici\"].astype('float')\n",
        "df[\"N&S\"].astype('float')\n",
        "df[\"PUB\"].astype('float')\n",
        "df[\"PCP\"].astype('float')\n",
        "print(df[\"University_Name\"].dtype)\n",
        "print(df[\"Alumni\"].dtype)\n",
        "print(df[\"Award\"].dtype)\n",
        "print(df[\"Hici\"].dtype)\n",
        "print(df[\"N&S\"].dtype)\n",
        "print(df[\"PUB\"].dtype)\n",
        "print(df[\"PCP\"].dtype)"
      ],
      "metadata": {
        "colab": {
          "base_uri": "https://localhost:8080/"
        },
        "id": "HlsoNLsa4CSK",
        "outputId": "6c37814c-d572-430f-f689-2f2501ea121b"
      },
      "execution_count": 13,
      "outputs": [
        {
          "output_type": "stream",
          "name": "stdout",
          "text": [
            "int64\n",
            "float64\n",
            "float64\n",
            "float64\n",
            "float64\n",
            "float64\n",
            "float64\n"
          ]
        }
      ]
    },
    {
      "cell_type": "code",
      "source": [
        "df = df.drop(\"National/Regional Rank\", axis=1)\n",
        "print(df)"
      ],
      "metadata": {
        "colab": {
          "base_uri": "https://localhost:8080/"
        },
        "id": "68xZ0gTK5FBT",
        "outputId": "36086664-d9c8-45a4-84ab-0d4eae797d4e"
      },
      "execution_count": 17,
      "outputs": [
        {
          "output_type": "stream",
          "name": "stdout",
          "text": [
            "         Rank  University_Name  Alumni  Award   Hici    N&S    PUB   PCP\n",
            "0           1                0   100.0   97.1  100.0  100.0  100.0  85.7\n",
            "1           2                1    45.3   88.1   73.1   83.9   73.1  59.6\n",
            "2           3                2    71.9   82.8   55.2   70.8   59.1  73.6\n",
            "3           4                3    78.2   90.8   45.1   59.8   67.2  60.6\n",
            "4           5                4    65.3   76.5   46.9   62.8   57.1  55.5\n",
            "..        ...              ...     ...    ...    ...    ...    ...   ...\n",
            "995  901-1000              995     0.0    0.0    6.5    4.0   21.1   9.5\n",
            "996  901-1000              996     0.0    0.0    0.0    1.4   27.5  11.7\n",
            "997  901-1000              997     0.0    0.0    6.5    3.5   19.0  13.3\n",
            "998  901-1000              998     0.0    0.0    0.0    6.9   19.3  19.4\n",
            "999  901-1000              999     0.0    0.0    6.5    3.8   20.9   9.4\n",
            "\n",
            "[1000 rows x 8 columns]\n"
          ]
        }
      ]
    },
    {
      "cell_type": "code",
      "source": [
        "df.to_csv(\"out.csv\")"
      ],
      "metadata": {
        "id": "S3xqU-e53xL7"
      },
      "execution_count": 18,
      "outputs": []
    },
    {
      "cell_type": "markdown",
      "source": [
        "Данные которые можно извлечь:\n",
        "\n",
        "1)Определить лидеров среди университетов по совокупности показателей.\n",
        "\n",
        "2)Оценить вклад выпускников, количество наград и научную активность.\n",
        "\n",
        "3)Сравнить университеты по их эффективности и международному признанию в области науки и образования.\n",
        "\n",
        "4)Выявить тренды, например, как показатели цитируемости или публикаций влияют на общие результаты рейтинга."
      ],
      "metadata": {
        "id": "wnwoQHKo8kZ2"
      }
    }
  ]
}